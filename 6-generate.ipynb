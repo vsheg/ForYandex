{
  "cells": [
    {
      "cell_type": "code",
      "source": [
        "import os\n",
        "import glob\n",
        "import ray\n",
        "import pandas as pd\n",
        "import numpy as np\n",
        "import re\n",
        "import matplotlib.pyplot as plt\n",
        "import functools as ft\n",
        "import operator as op\n",
        "from module import JP_Parser, Example"
      ],
      "outputs": [],
      "execution_count": 1,
      "metadata": {}
    },
    {
      "cell_type": "code",
      "source": [
        "os.chdir('/Users/sheg/Documents/projects/anki-flashcards/japanese/data')"
      ],
      "outputs": [],
      "execution_count": 2,
      "metadata": {}
    },
    {
      "cell_type": "markdown",
      "source": [
        "# Задание порядка карточек"
      ],
      "metadata": {}
    },
    {
      "cell_type": "code",
      "source": [
        "vocab = pd.read_pickle('vocab.pkl')\n",
        "kanji = pd.read_pickle('kanji.pkl')\n",
        "radic = pd.read_pickle('radic.pkl')"
      ],
      "outputs": [],
      "execution_count": 22,
      "metadata": {
        "inputHidden": false,
        "outputHidden": false
      }
    },
    {
      "cell_type": "code",
      "source": [
        "from enum import Enum"
      ],
      "outputs": [],
      "execution_count": 4,
      "metadata": {
        "inputHidden": false,
        "outputHidden": false
      }
    },
    {
      "cell_type": "code",
      "source": [
        "class card_type(Enum):\n",
        "    radic = 0\n",
        "    kanji = 1\n",
        "    vocab = 2"
      ],
      "outputs": [],
      "execution_count": 5,
      "metadata": {
        "inputHidden": false,
        "outputHidden": false
      }
    },
    {
      "cell_type": "code",
      "source": [
        "def find_kanji(text, df=kanji, *, drop=False):\n",
        "    \n",
        "    chars = list(text)\n",
        "    chars = pd.Series(chars)\n",
        "    true_kanji = chars[ chars.isin(df.kanji) ]\n",
        "    \n",
        "    mask = df.kanji.isin(true_kanji)\n",
        "    result = df[mask]\n",
        "    \n",
        "    if drop:\n",
        "        df.drop(result.index, inplace=True)\n",
        "    \n",
        "    return result"
      ],
      "outputs": [],
      "execution_count": 6,
      "metadata": {}
    },
    {
      "cell_type": "code",
      "source": [
        "_kanji = kanji.copy()\n",
        "_radic = radic.copy()\n",
        "\n",
        "used_radic = []\n",
        "cards_order = []\n",
        "\n",
        "# первые 60 слов\n",
        "for word_tuple in vocab.iloc[:60].itertuples():\n",
        "    \n",
        "    kanji_str = word_tuple.kanji\n",
        "    \n",
        "    if type(kanji_str) == str:\n",
        "        kanji_found = find_kanji(kanji_str, df=_kanji, drop=True)\n",
        "        \n",
        "        for rads, kanji_ in kanji_found[['radic', 'kanji']].itertuples(index=False):\n",
        "            for rad_n in rads:\n",
        "                radic_str = radic.loc[rad_n].radic\n",
        "                if radic_str == kanji_:\n",
        "                    continue\n",
        "                if rad_n in used_radic:\n",
        "                    continue\n",
        "                cards_order.append( (card_type.radic, rad_n) )\n",
        "            \n",
        "        kanji_indices = kanji_found.index\n",
        "        cards_order.extend( zip([card_type.kanji] * len(kanji_indices), kanji_indices) )        \n",
        "    \n",
        "    if kanji_str not in kanji_found.kanji.values:\n",
        "        cards_order.append( (card_type.vocab, word_tuple.Index) )"
      ],
      "outputs": [],
      "execution_count": 39,
      "metadata": {}
    },
    {
      "cell_type": "code",
      "source": [
        "len(cards_order)"
      ],
      "outputs": [
        {
          "output_type": "execute_result",
          "execution_count": 40,
          "data": {
            "text/plain": [
              "139"
            ]
          },
          "metadata": {}
        }
      ],
      "execution_count": 40,
      "metadata": {
        "inputHidden": false,
        "outputHidden": false
      }
    }
  ],
  "metadata": {
    "kernel_info": {
      "name": "python3"
    },
    "kernelspec": {
      "name": "python3",
      "language": "python",
      "display_name": "Python 3"
    },
    "language_info": {
      "name": "python",
      "version": "3.7.4",
      "mimetype": "text/x-python",
      "codemirror_mode": {
        "name": "ipython",
        "version": 3
      },
      "pygments_lexer": "ipython3",
      "nbconvert_exporter": "python",
      "file_extension": ".py"
    },
    "nteract": {
      "version": "0.15.0"
    },
    "varInspector": {
      "cols": {
        "lenName": 16,
        "lenType": 16,
        "lenVar": 40
      },
      "kernels_config": {
        "python": {
          "delete_cmd_postfix": "",
          "delete_cmd_prefix": "del ",
          "library": "var_list.py",
          "varRefreshCmd": "print(var_dic_list())"
        },
        "r": {
          "delete_cmd_postfix": ") ",
          "delete_cmd_prefix": "rm(",
          "library": "var_list.r",
          "varRefreshCmd": "cat(var_dic_list()) "
        }
      },
      "types_to_exclude": [
        "module",
        "function",
        "builtin_function_or_method",
        "instance",
        "_Feature"
      ],
      "window_display": false
    }
  },
  "nbformat": 4,
  "nbformat_minor": 4
}