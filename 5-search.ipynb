{
  "cells": [
    {
      "cell_type": "code",
      "source": [
        "import os\n",
        "import glob\n",
        "import ray\n",
        "import pandas as pd\n",
        "import numpy as np\n",
        "import re\n",
        "import matplotlib.pyplot as plt\n",
        "import functools as ft\n",
        "import operator as op\n",
        "from module import JP_Parser, Example"
      ],
      "outputs": [],
      "execution_count": 3,
      "metadata": {}
    },
    {
      "cell_type": "code",
      "source": [
        "os.chdir('/Users/sheg/Documents/projects/anki-flashcards/japanese/data')\n"
      ],
      "outputs": [],
      "execution_count": 4,
      "metadata": {}
    },
    {
      "cell_type": "markdown",
      "source": [
        "# Поиск примеров"
      ],
      "metadata": {}
    },
    {
      "cell_type": "code",
      "source": [
        "jp_morpho = pd.read_pickle('jp_morpho.pkl')"
      ],
      "outputs": [],
      "execution_count": 8,
      "metadata": {}
    },
    {
      "cell_type": "code",
      "source": [
        "sent = pd.read_pickle('sent.pkl')"
      ],
      "outputs": [],
      "execution_count": 5,
      "metadata": {}
    },
    {
      "cell_type": "code",
      "source": [
        "def jp_examples(text):\n",
        "    katakana = JP_Parser.reading(text, 'katakana')\n",
        "    word_matches = jp_morpho[jp_morpho.reading == katakana]\n",
        "    sent_matches_ids = word_matches.index.get_level_values(0)\n",
        "    \n",
        "    return sent.loc[sent_matches_ids]"
      ],
      "outputs": [],
      "execution_count": 10,
      "metadata": {}
    },
    {
      "cell_type": "code",
      "source": [
        "jp_examples('日本語').head()"
      ],
      "outputs": [
        {
          "output_type": "stream",
          "name": "stderr",
          "text": [
            "/Users/sheg/Library/Python/3.7/lib/python/site-packages/ipykernel_launcher.py:6: FutureWarning: \n",
            "Passing list-likes to .loc or [] with any missing label will raise\n",
            "KeyError in the future, you can use .reindex() as an alternative.\n",
            "\n",
            "See the documentation here:\n",
            "https://pandas.pydata.org/pandas-docs/stable/user_guide/indexing.html#deprecate-loc-reindex-listlike\n",
            "  \n"
          ]
        },
        {
          "output_type": "execute_result",
          "execution_count": 11,
          "data": {
            "text/html": [
              "<div>\n",
              "<style scoped>\n",
              "    .dataframe tbody tr th:only-of-type {\n",
              "        vertical-align: middle;\n",
              "    }\n",
              "\n",
              "    .dataframe tbody tr th {\n",
              "        vertical-align: top;\n",
              "    }\n",
              "\n",
              "    .dataframe thead th {\n",
              "        text-align: right;\n",
              "    }\n",
              "</style>\n",
              "<table border=\"1\" class=\"dataframe\">\n",
              "  <thead>\n",
              "    <tr style=\"text-align: right;\">\n",
              "      <th></th>\n",
              "      <th>lang</th>\n",
              "      <th>text</th>\n",
              "      <th>user</th>\n",
              "      <th>links</th>\n",
              "      <th>rating</th>\n",
              "      <th>audio</th>\n",
              "    </tr>\n",
              "    <tr>\n",
              "      <th>id</th>\n",
              "      <th></th>\n",
              "      <th></th>\n",
              "      <th></th>\n",
              "      <th></th>\n",
              "      <th></th>\n",
              "      <th></th>\n",
              "    </tr>\n",
              "  </thead>\n",
              "  <tbody>\n",
              "    <tr>\n",
              "      <td>1048832</td>\n",
              "      <td>jp</td>\n",
              "      <td>漢字を学ばないで日本語の勉強はできない。</td>\n",
              "      <td>Quazel</td>\n",
              "      <td>{6487572}</td>\n",
              "      <td>NaN</td>\n",
              "      <td>False</td>\n",
              "    </tr>\n",
              "    <tr>\n",
              "      <td>4896</td>\n",
              "      <td>jp</td>\n",
              "      <td>私は日本語が話せない。</td>\n",
              "      <td>bunbuku</td>\n",
              "      <td>{1069888, 1482, 5612}</td>\n",
              "      <td>NaN</td>\n",
              "      <td>False</td>\n",
              "    </tr>\n",
              "    <tr>\n",
              "      <td>1060486</td>\n",
              "      <td>jp</td>\n",
              "      <td>その外国人はまるで母国語であるかのように日本語を話す。</td>\n",
              "      <td>mookeee</td>\n",
              "      <td>{1060484}</td>\n",
              "      <td>NaN</td>\n",
              "      <td>False</td>\n",
              "    </tr>\n",
              "    <tr>\n",
              "      <td>2109853</td>\n",
              "      <td>jp</td>\n",
              "      <td>日本語版ウィキペディアで今年最も多く読まれた記事は何だと思う？</td>\n",
              "      <td>guimihanui</td>\n",
              "      <td>{6815513, 4208326}</td>\n",
              "      <td>NaN</td>\n",
              "      <td>False</td>\n",
              "    </tr>\n",
              "    <tr>\n",
              "      <td>2130917</td>\n",
              "      <td>jp</td>\n",
              "      <td>私は日本語が得意です。</td>\n",
              "      <td>bunbuku</td>\n",
              "      <td>{416136, 6475201}</td>\n",
              "      <td>NaN</td>\n",
              "      <td>False</td>\n",
              "    </tr>\n",
              "  </tbody>\n",
              "</table>\n",
              "</div>"
            ],
            "text/plain": [
              "        lang                             text        user  \\\n",
              "id                                                          \n",
              "1048832   jp             漢字を学ばないで日本語の勉強はできない。      Quazel   \n",
              "4896      jp                      私は日本語が話せない。     bunbuku   \n",
              "1060486   jp      その外国人はまるで母国語であるかのように日本語を話す。     mookeee   \n",
              "2109853   jp  日本語版ウィキペディアで今年最も多く読まれた記事は何だと思う？  guimihanui   \n",
              "2130917   jp                      私は日本語が得意です。     bunbuku   \n",
              "\n",
              "                         links  rating  audio  \n",
              "id                                             \n",
              "1048832              {6487572}     NaN  False  \n",
              "4896     {1069888, 1482, 5612}     NaN  False  \n",
              "1060486              {1060484}     NaN  False  \n",
              "2109853     {6815513, 4208326}     NaN  False  \n",
              "2130917      {416136, 6475201}     NaN  False  "
            ]
          },
          "metadata": {}
        }
      ],
      "execution_count": 11,
      "metadata": {
        "jupyter": {
          "outputs_hidden": true
        }
      }
    }
  ],
  "metadata": {
    "kernel_info": {
      "name": "python3"
    },
    "kernelspec": {
      "name": "python3",
      "language": "python",
      "display_name": "Python 3"
    },
    "nteract": {
      "version": "0.15.0"
    },
    "varInspector": {
      "cols": {
        "lenName": 16,
        "lenType": 16,
        "lenVar": 40
      },
      "kernels_config": {
        "python": {
          "delete_cmd_postfix": "",
          "delete_cmd_prefix": "del ",
          "library": "var_list.py",
          "varRefreshCmd": "print(var_dic_list())"
        },
        "r": {
          "delete_cmd_postfix": ") ",
          "delete_cmd_prefix": "rm(",
          "library": "var_list.r",
          "varRefreshCmd": "cat(var_dic_list()) "
        }
      },
      "types_to_exclude": [
        "module",
        "function",
        "builtin_function_or_method",
        "instance",
        "_Feature"
      ],
      "window_display": false
    },
    "language_info": {
      "name": "python",
      "version": "3.7.4",
      "mimetype": "text/x-python",
      "codemirror_mode": {
        "name": "ipython",
        "version": 3
      },
      "pygments_lexer": "ipython3",
      "nbconvert_exporter": "python",
      "file_extension": ".py"
    }
  },
  "nbformat": 4,
  "nbformat_minor": 4
}