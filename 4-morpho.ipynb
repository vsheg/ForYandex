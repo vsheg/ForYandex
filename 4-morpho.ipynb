{
 "cells": [
  {
   "cell_type": "code",
   "execution_count": 1,
   "metadata": {},
   "outputs": [],
   "source": [
    "import os\n",
    "import glob\n",
    "import pandas as pd\n",
    "import numpy as np\n",
    "import re\n",
    "import matplotlib.pyplot as plt\n",
    "import functools as ft\n",
    "import operator as op\n",
    "from module import JP_Parser"
   ]
  },
  {
   "cell_type": "code",
   "execution_count": 2,
   "metadata": {},
   "outputs": [],
   "source": [
    "os.chdir('/Users/sheg/Documents/projects/flashcards/japanese/data')"
   ]
  },
  {
   "cell_type": "code",
   "execution_count": 3,
   "metadata": {},
   "outputs": [],
   "source": [
    "try:\n",
    "    sent = pd.read_pickle('sent.pkl')\n",
    "    vocab = pd.read_pickle('vocab.pkl')\n",
    "    kanji = pd.read_pickle('kanji.pkl')\n",
    "    jp_morpho = pd.read_pickle('jp_morpho.pkl')\n",
    "except:\n",
    "    pass"
   ]
  },
  {
   "cell_type": "markdown",
   "metadata": {},
   "source": [
    "# Морфологический анализ"
   ]
  },
  {
   "cell_type": "markdown",
   "metadata": {},
   "source": [
    "## Части речи"
   ]
  },
  {
   "cell_type": "code",
   "execution_count": 65,
   "metadata": {},
   "outputs": [],
   "source": [
    "class TimeOutException(BaseException):\n",
    "    pass"
   ]
  },
  {
   "cell_type": "code",
   "execution_count": 66,
   "metadata": {},
   "outputs": [],
   "source": [
    "import timeout_decorator\n",
    "import functools as ft"
   ]
  },
  {
   "cell_type": "markdown",
   "metadata": {},
   "source": [
    "## Морфологический разбор корпуса"
   ]
  },
  {
   "cell_type": "code",
   "execution_count": 7,
   "metadata": {},
   "outputs": [],
   "source": [
    "import datetime, time"
   ]
  },
  {
   "cell_type": "code",
   "execution_count": 8,
   "metadata": {},
   "outputs": [],
   "source": [
    "def append_dump(df, store, key='df'):\n",
    "    store.append(key, df,\n",
    "                 data_columns=True,\n",
    "                 min_itemsize={'word': 100,\n",
    "                               'conjugated': 50,\n",
    "                               'pos': 30,\n",
    "                               'conjugated': 50,\n",
    "                               'inflection': 50,\n",
    "                               'base_form': 50,\n",
    "                               'reading': 50\n",
    "                              },\n",
    "                 encoding='utf8',\n",
    "                 format='t')"
   ]
  },
  {
   "cell_type": "code",
   "execution_count": 43,
   "metadata": {},
   "outputs": [],
   "source": [
    "jp_morpho_h5 = pd.HDFStore('jp_morpho.h5')"
   ]
  },
  {
   "cell_type": "code",
   "execution_count": 57,
   "metadata": {},
   "outputs": [],
   "source": [
    "good_indicies = []\n",
    "jp_morpho = pd.DataFrame()"
   ]
  },
  {
   "cell_type": "markdown",
   "metadata": {},
   "source": [
    "Если расчёт оборвался, можно импортировать индексы уже обработанных предложений"
   ]
  },
  {
   "cell_type": "code",
   "execution_count": 12,
   "metadata": {},
   "outputs": [],
   "source": [
    "jp_morpho = jp_morpho_h5.get('df')\n",
    "good_indicies = list( set( jp_morpho.index.get_level_values(0) ) )"
   ]
  },
  {
   "cell_type": "code",
   "execution_count": 44,
   "metadata": {},
   "outputs": [],
   "source": [
    "jp_sent = sent[sent.lang == 'jp']"
   ]
  },
  {
   "cell_type": "code",
   "execution_count": 58,
   "metadata": {},
   "outputs": [],
   "source": [
    "n_processed = len(good_indicies)"
   ]
  },
  {
   "cell_type": "code",
   "execution_count": 60,
   "metadata": {},
   "outputs": [
    {
     "name": "stdout",
     "output_type": "stream",
     "text": [
      "99.99% was proceed, save every = 479\r"
     ]
    }
   ],
   "source": [
    "save_every = 500\n",
    "save_str = ''\n",
    "delta = 10\n",
    "\n",
    "for row in jp_sent.itertuples():  \n",
    "\n",
    "    start_time = time.perf_counter_ns()\n",
    "    \n",
    "    if (n_processed > 0) and (n_processed % save_every == 0):\n",
    "        \n",
    "        append_dump(jp_morpho, jp_morpho_h5, 'df')\n",
    "        jp_morpho = pd.DataFrame()\n",
    "    \n",
    "    try:\n",
    "        if row.Index in good_indicies:\n",
    "            continue\n",
    "        \n",
    "        df = JP_Parser.process_item(row)\n",
    "        jp_morpho = jp_morpho.append(df)\n",
    "        good_indicies.append(row.Index)        \n",
    "        n_processed += 1\n",
    "        proceed_str = '{:0.2f}% was proceed'.format( 100 * n_processed / len(jp_sent))\n",
    "        \n",
    "    except:\n",
    "        pass\n",
    "\n",
    "    print(len(print_str) * ' ', end='\\r')\n",
    "    print_str = proceed_str + save_str\n",
    "    print(print_str, end='\\r')\n",
    "\n",
    "    end_time = time.perf_counter_ns()\n",
    "    \n",
    "    try:\n",
    "        save_vs_performance[save_every] += (end_time - start_time) / save_every\n",
    "    except KeyError:\n",
    "        save_vs_performance[save_every] = 0\n",
    "    \n",
    "    if (n_processed > 0) and (n_processed % save_every == save_every - 1):\n",
    "        effective_save_every = min(save_vs_performance, key=save_vs_performance.get)\n",
    "\n",
    "        save_every = effective_save_every\n",
    "        \n",
    "        save_every += np.random.randint(-delta, delta)\n",
    "        if save_every <= 0:\n",
    "                save_every += 2 * delta\n",
    "                \n",
    "        save_str = f', save every = {save_every}'\n",
    "    \n",
    "else:\n",
    "    append_dump(jp_morpho, jp_morpho_h5, 'df')\n",
    "    jp_morpho = pd.DataFrame()"
   ]
  },
  {
   "cell_type": "code",
   "execution_count": 110,
   "metadata": {},
   "outputs": [],
   "source": [
    "jp_morpho = jp_morpho_h5.get('df')"
   ]
  },
  {
   "cell_type": "markdown",
   "metadata": {},
   "source": [
    "Дообработаем то, что не обработалось"
   ]
  },
  {
   "cell_type": "code",
   "execution_count": 123,
   "metadata": {},
   "outputs": [],
   "source": [
    "unproceed_ids = set(jp_sent.index) - set(jp_morpho.index.get_level_values(0) )\n",
    "unproceed_ids = list(unproceed_ids)"
   ]
  },
  {
   "cell_type": "code",
   "execution_count": 124,
   "metadata": {},
   "outputs": [
    {
     "data": {
      "text/html": [
       "<div>\n",
       "<style scoped>\n",
       "    .dataframe tbody tr th:only-of-type {\n",
       "        vertical-align: middle;\n",
       "    }\n",
       "\n",
       "    .dataframe tbody tr th {\n",
       "        vertical-align: top;\n",
       "    }\n",
       "\n",
       "    .dataframe thead th {\n",
       "        text-align: right;\n",
       "    }\n",
       "</style>\n",
       "<table border=\"1\" class=\"dataframe\">\n",
       "  <thead>\n",
       "    <tr style=\"text-align: right;\">\n",
       "      <th></th>\n",
       "      <th>lang</th>\n",
       "      <th>text</th>\n",
       "      <th>user</th>\n",
       "      <th>links</th>\n",
       "      <th>rating</th>\n",
       "      <th>audio</th>\n",
       "    </tr>\n",
       "  </thead>\n",
       "  <tbody>\n",
       "  </tbody>\n",
       "</table>\n",
       "</div>"
      ],
      "text/plain": [
       "Empty DataFrame\n",
       "Columns: [lang, text, user, links, rating, audio]\n",
       "Index: []"
      ]
     },
     "execution_count": 124,
     "metadata": {},
     "output_type": "execute_result"
    }
   ],
   "source": [
    "sent.loc[unproceed_ids]"
   ]
  },
  {
   "cell_type": "code",
   "execution_count": 114,
   "metadata": {},
   "outputs": [],
   "source": [
    "bad_sentence_ids = [7956559]"
   ]
  },
  {
   "cell_type": "code",
   "execution_count": 116,
   "metadata": {},
   "outputs": [],
   "source": [
    "for bad in bad_sentence_ids:\n",
    "    try:\n",
    "        unproceed_ids.remove(bad)\n",
    "    except:\n",
    "        pass"
   ]
  },
  {
   "cell_type": "code",
   "execution_count": 117,
   "metadata": {},
   "outputs": [],
   "source": [
    "for row in sent.loc[unproceed_ids].itertuples():\n",
    "    df = JP_Parser.process_item(row)\n",
    "    jp_morpho = jp_morpho.append(df)"
   ]
  },
  {
   "cell_type": "code",
   "execution_count": 118,
   "metadata": {},
   "outputs": [
    {
     "data": {
      "text/plain": [
       "182309"
      ]
     },
     "execution_count": 118,
     "metadata": {},
     "output_type": "execute_result"
    }
   ],
   "source": [
    "len( jp_morpho.index.get_level_values(0).unique() )"
   ]
  },
  {
   "cell_type": "code",
   "execution_count": 119,
   "metadata": {},
   "outputs": [
    {
     "data": {
      "text/plain": [
       "182309"
      ]
     },
     "execution_count": 119,
     "metadata": {},
     "output_type": "execute_result"
    }
   ],
   "source": [
    "len( sent[sent.lang == 'jp'] )"
   ]
  },
  {
   "cell_type": "code",
   "execution_count": 120,
   "metadata": {},
   "outputs": [],
   "source": [
    "sent.drop(bad_sentence_ids, inplace=True)"
   ]
  },
  {
   "cell_type": "code",
   "execution_count": 121,
   "metadata": {},
   "outputs": [],
   "source": [
    "jp_morpho.to_pickle('jp_morpho.pkl')"
   ]
  }
 ],
 "metadata": {
  "kernel_info": {
   "name": "python3"
  },
  "kernelspec": {
   "display_name": "Python 3",
   "language": "python",
   "name": "python3"
  },
  "language_info": {
   "codemirror_mode": {
    "name": "ipython",
    "version": 3
   },
   "file_extension": ".py",
   "mimetype": "text/x-python",
   "name": "python",
   "nbconvert_exporter": "python",
   "pygments_lexer": "ipython3",
   "version": "3.7.4"
  },
  "nteract": {
   "version": "0.15.0"
  },
  "varInspector": {
   "cols": {
    "lenName": 16,
    "lenType": 16,
    "lenVar": 40
   },
   "kernels_config": {
    "python": {
     "delete_cmd_postfix": "",
     "delete_cmd_prefix": "del ",
     "library": "var_list.py",
     "varRefreshCmd": "print(var_dic_list())"
    },
    "r": {
     "delete_cmd_postfix": ") ",
     "delete_cmd_prefix": "rm(",
     "library": "var_list.r",
     "varRefreshCmd": "cat(var_dic_list()) "
    }
   },
   "types_to_exclude": [
    "module",
    "function",
    "builtin_function_or_method",
    "instance",
    "_Feature"
   ],
   "window_display": false
  }
 },
 "nbformat": 4,
 "nbformat_minor": 4
}
