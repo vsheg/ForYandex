{
  "cells": [
    {
      "cell_type": "code",
      "source": [
        "import os\n",
        "import glob\n",
        "import pandas as pd\n",
        "import numpy as np\n",
        "import re\n",
        "import matplotlib.pyplot as plt\n",
        "import functools as ft\n",
        "import operator as op"
      ],
      "outputs": [],
      "execution_count": 1,
      "metadata": {}
    },
    {
      "cell_type": "code",
      "source": [
        "os.chdir('/Users/sheg/Documents/projects/anki-flashcards/japanese/data')"
      ],
      "outputs": [],
      "execution_count": 2,
      "metadata": {}
    },
    {
      "cell_type": "markdown",
      "source": [
        "# Загружаем слова"
      ],
      "metadata": {}
    },
    {
      "cell_type": "code",
      "source": [
        "vocab_files = glob.glob('jlpt/*vocab.csv')\n",
        "vocab_files.sort(reverse=True)"
      ],
      "outputs": [],
      "execution_count": 3,
      "metadata": {}
    },
    {
      "cell_type": "code",
      "source": [
        "df = pd.DataFrame()"
      ],
      "outputs": [],
      "execution_count": 4,
      "metadata": {}
    },
    {
      "cell_type": "code",
      "source": [
        "for file_name in vocab_files:\n",
        "    jlpt = re.search('jlpt-n(\\d+?)-vocab', file_name).group(1)\n",
        "    jlpt = int(jlpt)\n",
        "    \n",
        "    with open(file_name) as file:\n",
        "        tmp = pd.read_csv(file)\n",
        "        tmp['jlpt'] = jlpt\n",
        "        df = pd.concat([df, tmp])\n",
        "\n",
        "del tmp, jlpt"
      ],
      "outputs": [],
      "execution_count": 5,
      "metadata": {}
    },
    {
      "cell_type": "code",
      "source": [
        "df.reset_index(inplace=True, drop=True)"
      ],
      "outputs": [],
      "execution_count": 6,
      "metadata": {}
    },
    {
      "cell_type": "code",
      "source": [
        "df.columns = df.columns.str.lower()\n",
        "df.rename(columns={'english': 'en'}, inplace=True)"
      ],
      "outputs": [],
      "execution_count": 7,
      "metadata": {}
    },
    {
      "cell_type": "code",
      "source": [
        "vocab = df\n",
        "del df"
      ],
      "outputs": [],
      "execution_count": 8,
      "metadata": {}
    },
    {
      "cell_type": "code",
      "source": [
        "vocab.jlpt = pd.Categorical(vocab.jlpt, categories=[5, 4, 3, 2, 1])"
      ],
      "outputs": [],
      "execution_count": 9,
      "metadata": {}
    },
    {
      "cell_type": "code",
      "source": [
        "vocab.en.replace({r'(\\w),(\\w)': r'\\1, \\2', ';\\s*': '\\n'}, regex=True, inplace=True)"
      ],
      "outputs": [],
      "execution_count": 10,
      "metadata": {}
    },
    {
      "cell_type": "code",
      "source": [
        "vocab.to_pickle('vocab.pkl')"
      ],
      "outputs": [],
      "execution_count": 11,
      "metadata": {}
    },
    {
      "cell_type": "markdown",
      "source": [
        "# Частотный список слов"
      ],
      "metadata": {}
    },
    {
      "cell_type": "code",
      "source": [
        "freq = pd.read_csv('word_freq_list.csv', squeeze=True, header=None, index_col=0)"
      ],
      "outputs": [],
      "execution_count": 12,
      "metadata": {}
    },
    {
      "cell_type": "code",
      "source": [
        "freq = pd.Series(np.arange(len(freq)), index=freq.index)"
      ],
      "outputs": [],
      "execution_count": 13,
      "metadata": {}
    },
    {
      "cell_type": "code",
      "source": [
        "freq = freq[~freq.index.duplicated()]"
      ],
      "outputs": [],
      "execution_count": 14,
      "metadata": {}
    },
    {
      "cell_type": "code",
      "source": [
        "def freq_rate(row):\n",
        "    try:\n",
        "        kanji = freq[row.kanji]\n",
        "    except:\n",
        "        pass\n",
        "    \n",
        "    try:    \n",
        "        kana = freq[row.kana]\n",
        "    except:\n",
        "        pass\n",
        "    \n",
        "    try:\n",
        "        return min(kana, kanji)\n",
        "    except:\n",
        "        pass\n",
        "    \n",
        "    try:\n",
        "        return kana\n",
        "    except:\n",
        "        pass\n",
        "    \n",
        "    try:\n",
        "        return kanji\n",
        "    except:\n",
        "        pass\n",
        "    \n",
        "    return np.nan"
      ],
      "outputs": [],
      "execution_count": 15,
      "metadata": {}
    },
    {
      "cell_type": "code",
      "source": [
        "vocab['freq'] = vocab.apply(freq_rate, axis=1).astype('Int16')"
      ],
      "outputs": [],
      "execution_count": 16,
      "metadata": {}
    },
    {
      "cell_type": "code",
      "source": [
        "vocab.sort_values(['jlpt', 'freq'], inplace=True)"
      ],
      "outputs": [],
      "execution_count": 17,
      "metadata": {}
    },
    {
      "cell_type": "code",
      "source": [
        "vocab.to_pickle('vocab.pkl')"
      ],
      "outputs": [],
      "execution_count": 18,
      "metadata": {}
    },
    {
      "cell_type": "code",
      "source": [
        "plt.plot(list(vocab.freq))\n",
        "plt.show()"
      ],
      "outputs": [
        {
          "output_type": "display_data",
          "data": {
            "text/plain": [
              "<Figure size 432x288 with 1 Axes>"
            ],
            "image/png": "[encoded data removed]"
          },
          "metadata": {
            "needs_background": "light"
          }
        }
      ],
      "execution_count": 19,
      "metadata": {}
    }
  ],
  "metadata": {
    "kernel_info": {
      "name": "python3"
    },
    "kernelspec": {
      "name": "python3",
      "language": "python",
      "display_name": "Python 3"
    },
    "language_info": {
      "name": "python",
      "version": "3.7.4",
      "mimetype": "text/x-python",
      "codemirror_mode": {
        "name": "ipython",
        "version": 3
      },
      "pygments_lexer": "ipython3",
      "nbconvert_exporter": "python",
      "file_extension": ".py"
    },
    "nteract": {
      "version": "0.15.0"
    },
    "varInspector": {
      "cols": {
        "lenName": 16,
        "lenType": 16,
        "lenVar": 40
      },
      "kernels_config": {
        "python": {
          "delete_cmd_postfix": "",
          "delete_cmd_prefix": "del ",
          "library": "var_list.py",
          "varRefreshCmd": "print(var_dic_list())"
        },
        "r": {
          "delete_cmd_postfix": ") ",
          "delete_cmd_prefix": "rm(",
          "library": "var_list.r",
          "varRefreshCmd": "cat(var_dic_list()) "
        }
      },
      "types_to_exclude": [
        "module",
        "function",
        "builtin_function_or_method",
        "instance",
        "_Feature"
      ],
      "window_display": false
    }
  },
  "nbformat": 4,
  "nbformat_minor": 4
}