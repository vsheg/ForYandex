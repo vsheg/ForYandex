{
 "cells": [
  {
   "cell_type": "code",
   "execution_count": 1,
   "metadata": {},
   "outputs": [],
   "source": [
    "from module import Example"
   ]
  },
  {
   "cell_type": "code",
   "execution_count": 7,
   "metadata": {},
   "outputs": [],
   "source": [
    "import os\n",
    "import glob\n",
    "import pandas as pd\n",
    "import numpy as np\n",
    "import re\n",
    "import matplotlib.pyplot as plt\n",
    "import functools as ft\n",
    "import operator as op\n",
    "import unicodedata"
   ]
  },
  {
   "cell_type": "code",
   "execution_count": 3,
   "metadata": {},
   "outputs": [],
   "source": [
    "os.chdir('/Users/sheg/Documents/projects/anki-flashcards/japanese/data')"
   ]
  },
  {
   "cell_type": "markdown",
   "metadata": {},
   "source": [
    "# Загружаем Радикалы"
   ]
  },
  {
   "cell_type": "markdown",
   "metadata": {},
   "source": [
    "У оригинального файла `japanese-radicals.csv` отсутствовало чтение для радикала 乙, оно добавлено вручную при редактировании этого файла"
   ]
  },
  {
   "cell_type": "code",
   "execution_count": 6,
   "metadata": {
    "inputHidden": false,
    "jupyter": {
     "outputs_hidden": false
    },
    "outputHidden": false
   },
   "outputs": [],
   "source": [
    "radic = pd.read_csv('japanese-radicals.csv', delimiter=';',\n",
    "                    usecols=[0, 1, 3, 4, 6, 8],\n",
    "                    header=0,\n",
    "                    names=['strokes', 'radic', 'en', 'reading', 'position', 'important'],\n",
    "                    dtype={'strokes': 'Int8'}\n",
    "                   )"
   ]
  },
  {
   "cell_type": "code",
   "execution_count": 7,
   "metadata": {
    "inputHidden": false,
    "jupyter": {
     "outputs_hidden": false
    },
    "outputHidden": false
   },
   "outputs": [],
   "source": [
    "radic.important.replace({np.nan: False, 'Important': True}, inplace=True)\n",
    "radic.reset_index(drop=True, inplace=True)"
   ]
  },
  {
   "cell_type": "code",
   "execution_count": 8,
   "metadata": {},
   "outputs": [],
   "source": [
    "from lxml import html, etree"
   ]
  },
  {
   "cell_type": "code",
   "execution_count": 9,
   "metadata": {},
   "outputs": [],
   "source": [
    "from requests import get"
   ]
  },
  {
   "cell_type": "code",
   "execution_count": 23,
   "metadata": {},
   "outputs": [],
   "source": [
    "page = get('https://en.wikipedia.org/wiki/List_of_kanji_radicals_by_stroke_count')"
   ]
  },
  {
   "cell_type": "code",
   "execution_count": 24,
   "metadata": {},
   "outputs": [],
   "source": [
    "xpath = etree.XPath('//*[@id=\"mw-content-text\"]/div/table[1]')\n",
    "table = xpath( html.fromstring(page.text) )[0]"
   ]
  },
  {
   "cell_type": "code",
   "execution_count": 25,
   "metadata": {},
   "outputs": [],
   "source": [
    "table = pd.read_html( etree.tostring(table), index_col=0 )[0]"
   ]
  },
  {
   "cell_type": "code",
   "execution_count": 26,
   "metadata": {},
   "outputs": [],
   "source": [
    "kangxi = table.iloc[:, 0]\n",
    "kangxi.Name = 'radic'"
   ]
  },
  {
   "cell_type": "code",
   "execution_count": 27,
   "metadata": {},
   "outputs": [],
   "source": [
    "kangxi = kangxi.str.rstrip('\\)').str.split(' \\(')"
   ]
  },
  {
   "cell_type": "code",
   "execution_count": 28,
   "metadata": {},
   "outputs": [],
   "source": [
    "f = lambda x: {'radic': x[0], 'var': ','.join(x[1:]) if len(x) - 1 else np.nan}\n",
    "kangxi = kangxi.apply(f)"
   ]
  },
  {
   "cell_type": "code",
   "execution_count": 29,
   "metadata": {},
   "outputs": [],
   "source": [
    "kangxi = pd.DataFrame( list(kangxi) )"
   ]
  },
  {
   "cell_type": "code",
   "execution_count": 32,
   "metadata": {
    "code_folding": []
   },
   "outputs": [],
   "source": [
    "# normalization\n",
    "kangxi = kangxi.applymap(\n",
    "    lambda rad: unicodedata.normalize('NFKC', rad) if isinstance(rad, str) else rad\n",
    ")"
   ]
  },
  {
   "cell_type": "code",
   "execution_count": 34,
   "metadata": {},
   "outputs": [],
   "source": [
    "radic.radic = radic.radic.apply(lambda rad: unicodedata.normalize('NFKC', rad))"
   ]
  },
  {
   "cell_type": "code",
   "execution_count": 57,
   "metadata": {},
   "outputs": [],
   "source": [
    "radic = kangxi.merge(radic, on='radic', how='left')"
   ]
  },
  {
   "cell_type": "code",
   "execution_count": 62,
   "metadata": {
    "inputHidden": false,
    "outputHidden": false
   },
   "outputs": [],
   "source": [
    "radic.drop_duplicates('radic', inplace=True)"
   ]
  },
  {
   "cell_type": "code",
   "execution_count": 64,
   "metadata": {
    "inputHidden": false,
    "outputHidden": false
   },
   "outputs": [],
   "source": [
    "radic.index = range(1, 215)"
   ]
  },
  {
   "cell_type": "code",
   "execution_count": 66,
   "metadata": {
    "inputHidden": false,
    "outputHidden": false
   },
   "outputs": [],
   "source": [
    "radic.to_pickle('radic.pkl')"
   ]
  },
  {
   "cell_type": "markdown",
   "metadata": {},
   "source": [
    "# Кандзи"
   ]
  },
  {
   "cell_type": "markdown",
   "metadata": {},
   "source": [
    "## Данные KANJIDIC"
   ]
  },
  {
   "cell_type": "code",
   "execution_count": 67,
   "metadata": {
    "inputHidden": false,
    "jupyter": {
     "outputs_hidden": false
    },
    "outputHidden": false
   },
   "outputs": [],
   "source": [
    "from lxml import etree"
   ]
  },
  {
   "cell_type": "code",
   "execution_count": 68,
   "metadata": {
    "inputHidden": false,
    "jupyter": {
     "outputs_hidden": false
    },
    "outputHidden": false
   },
   "outputs": [],
   "source": [
    "kanjidic = etree.parse('kanjidic2.xml').getroot()"
   ]
  },
  {
   "cell_type": "code",
   "execution_count": 69,
   "metadata": {
    "inputHidden": false,
    "jupyter": {
     "outputs_hidden": false
    },
    "outputHidden": false
   },
   "outputs": [],
   "source": [
    "kanjidic = kanjidic.xpath('character')"
   ]
  },
  {
   "cell_type": "code",
   "execution_count": 70,
   "metadata": {
    "inputHidden": false,
    "jupyter": {
     "outputs_hidden": false
    },
    "outputHidden": false
   },
   "outputs": [],
   "source": [
    "xpaths = {\n",
    "    'kanji': 'literal',\n",
    "    'radic': 'radical/rad_value',\n",
    "    'grade': 'misc/grade',\n",
    "    'strokes': 'misc/stroke_count',\n",
    "    'freq_kd': 'misc/freq',\n",
    "    'jlpt': 'misc/jlpt',\n",
    "    'on_kd': \"reading_meaning/rmgroup/reading[@r_type='ja_on']\",\n",
    "    'kun_kd': \"reading_meaning/rmgroup/reading[@r_type='ja_kun']\",\n",
    "    'en_kd': 'reading_meaning/rmgroup/meaning[not(@m_lang)]'\n",
    "}"
   ]
  },
  {
   "cell_type": "code",
   "execution_count": 71,
   "metadata": {
    "inputHidden": false,
    "jupyter": {
     "outputs_hidden": false
    },
    "outputHidden": false
   },
   "outputs": [],
   "source": [
    "df = pd.DataFrame(columns=xpaths.keys())"
   ]
  },
  {
   "cell_type": "code",
   "execution_count": 72,
   "metadata": {
    "inputHidden": false,
    "jupyter": {
     "outputs_hidden": false
    },
    "outputHidden": false
   },
   "outputs": [],
   "source": [
    "for kanji in kanjidic:\n",
    "    row = {col: kanji.xpath(xpath_ + '/text()') for col, xpath_ in xpaths.items()}\n",
    "    df = df.append(row, ignore_index=True)"
   ]
  },
  {
   "cell_type": "code",
   "execution_count": 73,
   "metadata": {
    "inputHidden": false,
    "jupyter": {
     "outputs_hidden": false
    },
    "outputHidden": false
   },
   "outputs": [],
   "source": [
    "df.kanji = df.kanji.apply(lambda l: l[0])"
   ]
  },
  {
   "cell_type": "code",
   "execution_count": 74,
   "metadata": {
    "inputHidden": false,
    "jupyter": {
     "outputs_hidden": false
    },
    "outputHidden": true
   },
   "outputs": [],
   "source": [
    "df.grade = df.grade.apply(lambda l: l[0] if len(l) == 1 else np.nan)"
   ]
  },
  {
   "cell_type": "code",
   "execution_count": 75,
   "metadata": {
    "inputHidden": false,
    "jupyter": {
     "outputs_hidden": false
    },
    "outputHidden": false
   },
   "outputs": [],
   "source": [
    "df.grade = df.grade.astype(float)"
   ]
  },
  {
   "cell_type": "code",
   "execution_count": 76,
   "metadata": {
    "inputHidden": false,
    "jupyter": {
     "outputs_hidden": false
    },
    "outputHidden": false
   },
   "outputs": [],
   "source": [
    "# Первая ступень школы\n",
    "df['kyoiku'] = df.apply(lambda row: row.grade if row.grade in {1, 2, 3, 4, 5, 6} else np.nan, axis=1).astype('Int8').astype('category')"
   ]
  },
  {
   "cell_type": "code",
   "execution_count": 77,
   "metadata": {
    "inputHidden": false,
    "jupyter": {
     "outputs_hidden": false
    },
    "outputHidden": false
   },
   "outputs": [],
   "source": [
    "# Для повседневного употребления, кандзи, не входящие в этот список, обычно подписываются фуриганой\n",
    "df['joyo'] = df.apply(lambda row: True if row.grade in {1, 2, 3, 4, 5, 6, 8} else False, axis=1)"
   ]
  },
  {
   "cell_type": "code",
   "execution_count": 78,
   "metadata": {
    "inputHidden": false,
    "jupyter": {
     "outputs_hidden": false
    },
    "outputHidden": false
   },
   "outputs": [],
   "source": [
    "# Для использования в именах\n",
    "df['jinmeiyo'] = df.apply(lambda row: True if row.grade in {1, 2, 3, 4, 5, 6, 8, 9, 10} else False, axis=1)"
   ]
  },
  {
   "cell_type": "code",
   "execution_count": 79,
   "metadata": {
    "inputHidden": false,
    "jupyter": {
     "outputs_hidden": false
    },
    "outputHidden": false
   },
   "outputs": [],
   "source": [
    "# Больше не нужна\n",
    "del df['grade']"
   ]
  },
  {
   "cell_type": "code",
   "execution_count": 80,
   "metadata": {
    "inputHidden": false,
    "jupyter": {
     "outputs_hidden": false
    },
    "outputHidden": false
   },
   "outputs": [],
   "source": [
    "df.freq_kd = df.freq_kd.apply(lambda l: l[0] if len(l) == 1 else np.nan).astype(float).astype('Int32')"
   ]
  },
  {
   "cell_type": "code",
   "execution_count": 81,
   "metadata": {
    "inputHidden": false,
    "jupyter": {
     "outputs_hidden": false
    },
    "outputHidden": false
   },
   "outputs": [],
   "source": [
    "df.jlpt = df.jlpt.apply(lambda l: l[0] if len(l) == 1 else np.nan).astype(float).astype('Int8')"
   ]
  },
  {
   "cell_type": "code",
   "execution_count": 87,
   "metadata": {
    "inputHidden": false,
    "outputHidden": false
   },
   "outputs": [],
   "source": [
    "df.radic = df.radic.apply(lambda l: [int(n) for n in l])"
   ]
  },
  {
   "cell_type": "code",
   "execution_count": 88,
   "metadata": {
    "inputHidden": false,
    "outputHidden": false
   },
   "outputs": [],
   "source": [
    "df.strokes = df.strokes.apply(lambda l: [int(n) for n in l])"
   ]
  },
  {
   "cell_type": "code",
   "execution_count": 95,
   "metadata": {
    "inputHidden": false,
    "jupyter": {
     "outputs_hidden": false
    },
    "outputHidden": false
   },
   "outputs": [],
   "source": [
    "# Переназовём таблицу\n",
    "kanji = df\n",
    "del df"
   ]
  },
  {
   "cell_type": "code",
   "execution_count": 96,
   "metadata": {
    "inputHidden": false,
    "jupyter": {
     "outputs_hidden": false
    },
    "outputHidden": false
   },
   "outputs": [
    {
     "data": {
      "text/html": [
       "<div>\n",
       "<style scoped>\n",
       "    .dataframe tbody tr th:only-of-type {\n",
       "        vertical-align: middle;\n",
       "    }\n",
       "\n",
       "    .dataframe tbody tr th {\n",
       "        vertical-align: top;\n",
       "    }\n",
       "\n",
       "    .dataframe thead th {\n",
       "        text-align: right;\n",
       "    }\n",
       "</style>\n",
       "<table border=\"1\" class=\"dataframe\">\n",
       "  <thead>\n",
       "    <tr style=\"text-align: right;\">\n",
       "      <th></th>\n",
       "      <th>kanji</th>\n",
       "      <th>radic</th>\n",
       "      <th>strokes</th>\n",
       "      <th>freq_kd</th>\n",
       "      <th>jlpt</th>\n",
       "      <th>on_kd</th>\n",
       "      <th>kun_kd</th>\n",
       "      <th>en_kd</th>\n",
       "      <th>kyoiku</th>\n",
       "      <th>joyo</th>\n",
       "      <th>jinmeiyo</th>\n",
       "    </tr>\n",
       "  </thead>\n",
       "  <tbody>\n",
       "    <tr>\n",
       "      <td>0</td>\n",
       "      <td>亜</td>\n",
       "      <td>[7, 1]</td>\n",
       "      <td>[7]</td>\n",
       "      <td>1509</td>\n",
       "      <td>1</td>\n",
       "      <td>[ア]</td>\n",
       "      <td>[つ.ぐ]</td>\n",
       "      <td>[Asia, rank next, come after, -ous]</td>\n",
       "      <td>NaN</td>\n",
       "      <td>True</td>\n",
       "      <td>True</td>\n",
       "    </tr>\n",
       "    <tr>\n",
       "      <td>1</td>\n",
       "      <td>唖</td>\n",
       "      <td>[30]</td>\n",
       "      <td>[10]</td>\n",
       "      <td>NaN</td>\n",
       "      <td>NaN</td>\n",
       "      <td>[ア, アク]</td>\n",
       "      <td>[おし]</td>\n",
       "      <td>[mute, dumb]</td>\n",
       "      <td>NaN</td>\n",
       "      <td>False</td>\n",
       "      <td>False</td>\n",
       "    </tr>\n",
       "    <tr>\n",
       "      <td>2</td>\n",
       "      <td>娃</td>\n",
       "      <td>[38]</td>\n",
       "      <td>[9]</td>\n",
       "      <td>NaN</td>\n",
       "      <td>NaN</td>\n",
       "      <td>[ア, アイ, ワ]</td>\n",
       "      <td>[うつく.しい]</td>\n",
       "      <td>[beautiful]</td>\n",
       "      <td>NaN</td>\n",
       "      <td>False</td>\n",
       "      <td>True</td>\n",
       "    </tr>\n",
       "    <tr>\n",
       "      <td>3</td>\n",
       "      <td>阿</td>\n",
       "      <td>[170]</td>\n",
       "      <td>[8]</td>\n",
       "      <td>1126</td>\n",
       "      <td>1</td>\n",
       "      <td>[ア, オ]</td>\n",
       "      <td>[おもね.る, くま]</td>\n",
       "      <td>[Africa, flatter, fawn upon, corner, nook, rec...</td>\n",
       "      <td>NaN</td>\n",
       "      <td>False</td>\n",
       "      <td>True</td>\n",
       "    </tr>\n",
       "    <tr>\n",
       "      <td>4</td>\n",
       "      <td>哀</td>\n",
       "      <td>[30, 8]</td>\n",
       "      <td>[9]</td>\n",
       "      <td>1715</td>\n",
       "      <td>1</td>\n",
       "      <td>[アイ]</td>\n",
       "      <td>[あわ.れ, あわ.れむ, かな.しい]</td>\n",
       "      <td>[pathetic, grief, sorrow, pathos, pity, sympat...</td>\n",
       "      <td>NaN</td>\n",
       "      <td>True</td>\n",
       "      <td>True</td>\n",
       "    </tr>\n",
       "  </tbody>\n",
       "</table>\n",
       "</div>"
      ],
      "text/plain": [
       "  kanji    radic strokes  freq_kd  jlpt       on_kd                kun_kd  \\\n",
       "0     亜   [7, 1]     [7]     1509     1         [ア]                 [つ.ぐ]   \n",
       "1     唖     [30]    [10]      NaN   NaN     [ア, アク]                  [おし]   \n",
       "2     娃     [38]     [9]      NaN   NaN  [ア, アイ, ワ]              [うつく.しい]   \n",
       "3     阿    [170]     [8]     1126     1      [ア, オ]           [おもね.る, くま]   \n",
       "4     哀  [30, 8]     [9]     1715     1        [アイ]  [あわ.れ, あわ.れむ, かな.しい]   \n",
       "\n",
       "                                               en_kd kyoiku   joyo  jinmeiyo  \n",
       "0                [Asia, rank next, come after, -ous]    NaN   True      True  \n",
       "1                                       [mute, dumb]    NaN  False     False  \n",
       "2                                        [beautiful]    NaN  False      True  \n",
       "3  [Africa, flatter, fawn upon, corner, nook, rec...    NaN  False      True  \n",
       "4  [pathetic, grief, sorrow, pathos, pity, sympat...    NaN   True      True  "
      ]
     },
     "execution_count": 96,
     "metadata": {},
     "output_type": "execute_result"
    }
   ],
   "source": [
    "kanji.head()"
   ]
  },
  {
   "cell_type": "markdown",
   "metadata": {},
   "source": [
    "## Добавим переводы кандзи на русский, взятые на [nippon.temerov.org]"
   ]
  },
  {
   "cell_type": "code",
   "execution_count": 97,
   "metadata": {
    "inputHidden": false,
    "jupyter": {
     "outputs_hidden": false
    },
    "outputHidden": false
   },
   "outputs": [],
   "source": [
    "temerov_files = glob.glob('kyoiku/*.*sv') + ['joyo.tsv']"
   ]
  },
  {
   "cell_type": "code",
   "execution_count": 98,
   "metadata": {
    "inputHidden": false,
    "jupyter": {
     "outputs_hidden": false
    },
    "outputHidden": false
   },
   "outputs": [],
   "source": [
    "df = pd.DataFrame(columns=['kanji', 'ru_tm'])"
   ]
  },
  {
   "cell_type": "code",
   "execution_count": 99,
   "metadata": {
    "inputHidden": false,
    "jupyter": {
     "outputs_hidden": false
    },
    "outputHidden": false
   },
   "outputs": [],
   "source": [
    "for file in temerov_files:\n",
    "    tmp = pd.read_csv(file, delimiter='\\t',\n",
    "                      usecols=[0, 1], header=0,\n",
    "                      names=df.columns)\n",
    "    \n",
    "    df = df.append(tmp, ignore_index=True)"
   ]
  },
  {
   "cell_type": "code",
   "execution_count": 100,
   "metadata": {
    "inputHidden": false,
    "jupyter": {
     "outputs_hidden": false
    },
    "outputHidden": false
   },
   "outputs": [],
   "source": [
    "kanji = kanji.merge(df, on='kanji', how='outer')"
   ]
  },
  {
   "cell_type": "code",
   "execution_count": 101,
   "metadata": {
    "inputHidden": false,
    "jupyter": {
     "outputs_hidden": false
    },
    "outputHidden": false
   },
   "outputs": [],
   "source": [
    "del df, tmp"
   ]
  },
  {
   "cell_type": "code",
   "execution_count": 102,
   "metadata": {
    "inputHidden": false,
    "jupyter": {
     "outputs_hidden": false
    },
    "outputHidden": false
   },
   "outputs": [
    {
     "data": {
      "text/html": [
       "<div>\n",
       "<style scoped>\n",
       "    .dataframe tbody tr th:only-of-type {\n",
       "        vertical-align: middle;\n",
       "    }\n",
       "\n",
       "    .dataframe tbody tr th {\n",
       "        vertical-align: top;\n",
       "    }\n",
       "\n",
       "    .dataframe thead th {\n",
       "        text-align: right;\n",
       "    }\n",
       "</style>\n",
       "<table border=\"1\" class=\"dataframe\">\n",
       "  <thead>\n",
       "    <tr style=\"text-align: right;\">\n",
       "      <th></th>\n",
       "      <th>kanji</th>\n",
       "      <th>radic</th>\n",
       "      <th>strokes</th>\n",
       "      <th>freq_kd</th>\n",
       "      <th>jlpt</th>\n",
       "      <th>on_kd</th>\n",
       "      <th>kun_kd</th>\n",
       "      <th>en_kd</th>\n",
       "      <th>kyoiku</th>\n",
       "      <th>joyo</th>\n",
       "      <th>jinmeiyo</th>\n",
       "      <th>ru_tm</th>\n",
       "    </tr>\n",
       "  </thead>\n",
       "  <tbody>\n",
       "    <tr>\n",
       "      <td>0</td>\n",
       "      <td>亜</td>\n",
       "      <td>[7, 1]</td>\n",
       "      <td>[7]</td>\n",
       "      <td>1509</td>\n",
       "      <td>1</td>\n",
       "      <td>[ア]</td>\n",
       "      <td>[つ.ぐ]</td>\n",
       "      <td>[Asia, rank next, come after, -ous]</td>\n",
       "      <td>NaN</td>\n",
       "      <td>True</td>\n",
       "      <td>True</td>\n",
       "      <td>Азия</td>\n",
       "    </tr>\n",
       "    <tr>\n",
       "      <td>1</td>\n",
       "      <td>唖</td>\n",
       "      <td>[30]</td>\n",
       "      <td>[10]</td>\n",
       "      <td>NaN</td>\n",
       "      <td>NaN</td>\n",
       "      <td>[ア, アク]</td>\n",
       "      <td>[おし]</td>\n",
       "      <td>[mute, dumb]</td>\n",
       "      <td>NaN</td>\n",
       "      <td>False</td>\n",
       "      <td>False</td>\n",
       "      <td>NaN</td>\n",
       "    </tr>\n",
       "    <tr>\n",
       "      <td>2</td>\n",
       "      <td>娃</td>\n",
       "      <td>[38]</td>\n",
       "      <td>[9]</td>\n",
       "      <td>NaN</td>\n",
       "      <td>NaN</td>\n",
       "      <td>[ア, アイ, ワ]</td>\n",
       "      <td>[うつく.しい]</td>\n",
       "      <td>[beautiful]</td>\n",
       "      <td>NaN</td>\n",
       "      <td>False</td>\n",
       "      <td>True</td>\n",
       "      <td>NaN</td>\n",
       "    </tr>\n",
       "    <tr>\n",
       "      <td>3</td>\n",
       "      <td>阿</td>\n",
       "      <td>[170]</td>\n",
       "      <td>[8]</td>\n",
       "      <td>1126</td>\n",
       "      <td>1</td>\n",
       "      <td>[ア, オ]</td>\n",
       "      <td>[おもね.る, くま]</td>\n",
       "      <td>[Africa, flatter, fawn upon, corner, nook, rec...</td>\n",
       "      <td>NaN</td>\n",
       "      <td>False</td>\n",
       "      <td>True</td>\n",
       "      <td>NaN</td>\n",
       "    </tr>\n",
       "    <tr>\n",
       "      <td>4</td>\n",
       "      <td>哀</td>\n",
       "      <td>[30, 8]</td>\n",
       "      <td>[9]</td>\n",
       "      <td>1715</td>\n",
       "      <td>1</td>\n",
       "      <td>[アイ]</td>\n",
       "      <td>[あわ.れ, あわ.れむ, かな.しい]</td>\n",
       "      <td>[pathetic, grief, sorrow, pathos, pity, sympat...</td>\n",
       "      <td>NaN</td>\n",
       "      <td>True</td>\n",
       "      <td>True</td>\n",
       "      <td>печальный</td>\n",
       "    </tr>\n",
       "  </tbody>\n",
       "</table>\n",
       "</div>"
      ],
      "text/plain": [
       "  kanji    radic strokes  freq_kd  jlpt       on_kd                kun_kd  \\\n",
       "0     亜   [7, 1]     [7]     1509     1         [ア]                 [つ.ぐ]   \n",
       "1     唖     [30]    [10]      NaN   NaN     [ア, アク]                  [おし]   \n",
       "2     娃     [38]     [9]      NaN   NaN  [ア, アイ, ワ]              [うつく.しい]   \n",
       "3     阿    [170]     [8]     1126     1      [ア, オ]           [おもね.る, くま]   \n",
       "4     哀  [30, 8]     [9]     1715     1        [アイ]  [あわ.れ, あわ.れむ, かな.しい]   \n",
       "\n",
       "                                               en_kd kyoiku   joyo  jinmeiyo  \\\n",
       "0                [Asia, rank next, come after, -ous]    NaN   True      True   \n",
       "1                                       [mute, dumb]    NaN  False     False   \n",
       "2                                        [beautiful]    NaN  False      True   \n",
       "3  [Africa, flatter, fawn upon, corner, nook, rec...    NaN  False      True   \n",
       "4  [pathetic, grief, sorrow, pathos, pity, sympat...    NaN   True      True   \n",
       "\n",
       "       ru_tm  \n",
       "0       Азия  \n",
       "1        NaN  \n",
       "2        NaN  \n",
       "3        NaN  \n",
       "4  печальный  "
      ]
     },
     "execution_count": 102,
     "metadata": {},
     "output_type": "execute_result"
    }
   ],
   "source": [
    "kanji.head()"
   ]
  },
  {
   "cell_type": "markdown",
   "metadata": {},
   "source": [
    "## Добавим переводы на английский, он, кун и примеры из проекта *KanjiAlive*"
   ]
  },
  {
   "cell_type": "code",
   "execution_count": 103,
   "metadata": {
    "inputHidden": false,
    "jupyter": {
     "outputs_hidden": false
    },
    "outputHidden": false
   },
   "outputs": [],
   "source": [
    "def parse_ka_examples(s):\n",
    "    \n",
    "    l = eval(s)\n",
    "    examples = []\n",
    "    \n",
    "    for jp, en in l:\n",
    "        kanji, kana = jp.rsplit('（', 1)\n",
    "        kana = kana.rstrip('）')\n",
    "\n",
    "        ex = Example(kanji=kanji, kana=kana, en=en)\n",
    "        examples.append(ex)\n",
    "    \n",
    "    return examples"
   ]
  },
  {
   "cell_type": "code",
   "execution_count": 104,
   "metadata": {
    "inputHidden": false,
    "jupyter": {
     "outputs_hidden": false
    },
    "outputHidden": false
   },
   "outputs": [],
   "source": [
    "df = pd.read_csv('ka_data.csv', usecols=[0, 3, 5, 7, 9], header=0,\n",
    "                names=['kanji', 'en_ka', 'kun_ka', 'on_ka', 'examples_ka'])"
   ]
  },
  {
   "cell_type": "code",
   "execution_count": 105,
   "metadata": {
    "inputHidden": false,
    "jupyter": {
     "outputs_hidden": false
    },
    "outputHidden": false
   },
   "outputs": [],
   "source": [
    "df.examples_ka = df.examples_ka.apply(parse_ka_examples)"
   ]
  },
  {
   "cell_type": "code",
   "execution_count": 106,
   "metadata": {
    "inputHidden": false,
    "jupyter": {
     "outputs_hidden": false
    },
    "outputHidden": false
   },
   "outputs": [],
   "source": [
    "df.kun_ka = df.kun_ka.str.split('、')\n",
    "df.on_ka = df.on_ka.str.split('、')"
   ]
  },
  {
   "cell_type": "code",
   "execution_count": 107,
   "metadata": {
    "inputHidden": false,
    "jupyter": {
     "outputs_hidden": false
    },
    "outputHidden": false
   },
   "outputs": [],
   "source": [
    "kanji = kanji.merge(df, on='kanji', how='outer')"
   ]
  },
  {
   "cell_type": "code",
   "execution_count": 108,
   "metadata": {
    "inputHidden": false,
    "jupyter": {
     "outputs_hidden": false
    },
    "outputHidden": false
   },
   "outputs": [
    {
     "data": {
      "text/html": [
       "<div>\n",
       "<style scoped>\n",
       "    .dataframe tbody tr th:only-of-type {\n",
       "        vertical-align: middle;\n",
       "    }\n",
       "\n",
       "    .dataframe tbody tr th {\n",
       "        vertical-align: top;\n",
       "    }\n",
       "\n",
       "    .dataframe thead th {\n",
       "        text-align: right;\n",
       "    }\n",
       "</style>\n",
       "<table border=\"1\" class=\"dataframe\">\n",
       "  <thead>\n",
       "    <tr style=\"text-align: right;\">\n",
       "      <th></th>\n",
       "      <th>kanji</th>\n",
       "      <th>radic</th>\n",
       "      <th>strokes</th>\n",
       "      <th>freq_kd</th>\n",
       "      <th>jlpt</th>\n",
       "      <th>on_kd</th>\n",
       "      <th>kun_kd</th>\n",
       "      <th>en_kd</th>\n",
       "      <th>kyoiku</th>\n",
       "      <th>joyo</th>\n",
       "      <th>jinmeiyo</th>\n",
       "      <th>ru_tm</th>\n",
       "      <th>en_ka</th>\n",
       "      <th>kun_ka</th>\n",
       "      <th>on_ka</th>\n",
       "      <th>examples_ka</th>\n",
       "    </tr>\n",
       "  </thead>\n",
       "  <tbody>\n",
       "    <tr>\n",
       "      <td>0</td>\n",
       "      <td>亜</td>\n",
       "      <td>[7, 1]</td>\n",
       "      <td>[7]</td>\n",
       "      <td>1509</td>\n",
       "      <td>1</td>\n",
       "      <td>[ア]</td>\n",
       "      <td>[つ.ぐ]</td>\n",
       "      <td>[Asia, rank next, come after, -ous]</td>\n",
       "      <td>NaN</td>\n",
       "      <td>True</td>\n",
       "      <td>True</td>\n",
       "      <td>Азия</td>\n",
       "      <td>NaN</td>\n",
       "      <td>NaN</td>\n",
       "      <td>NaN</td>\n",
       "      <td>NaN</td>\n",
       "    </tr>\n",
       "    <tr>\n",
       "      <td>1</td>\n",
       "      <td>唖</td>\n",
       "      <td>[30]</td>\n",
       "      <td>[10]</td>\n",
       "      <td>NaN</td>\n",
       "      <td>NaN</td>\n",
       "      <td>[ア, アク]</td>\n",
       "      <td>[おし]</td>\n",
       "      <td>[mute, dumb]</td>\n",
       "      <td>NaN</td>\n",
       "      <td>False</td>\n",
       "      <td>False</td>\n",
       "      <td>NaN</td>\n",
       "      <td>NaN</td>\n",
       "      <td>NaN</td>\n",
       "      <td>NaN</td>\n",
       "      <td>NaN</td>\n",
       "    </tr>\n",
       "    <tr>\n",
       "      <td>2</td>\n",
       "      <td>娃</td>\n",
       "      <td>[38]</td>\n",
       "      <td>[9]</td>\n",
       "      <td>NaN</td>\n",
       "      <td>NaN</td>\n",
       "      <td>[ア, アイ, ワ]</td>\n",
       "      <td>[うつく.しい]</td>\n",
       "      <td>[beautiful]</td>\n",
       "      <td>NaN</td>\n",
       "      <td>False</td>\n",
       "      <td>True</td>\n",
       "      <td>NaN</td>\n",
       "      <td>NaN</td>\n",
       "      <td>NaN</td>\n",
       "      <td>NaN</td>\n",
       "      <td>NaN</td>\n",
       "    </tr>\n",
       "    <tr>\n",
       "      <td>3</td>\n",
       "      <td>阿</td>\n",
       "      <td>[170]</td>\n",
       "      <td>[8]</td>\n",
       "      <td>1126</td>\n",
       "      <td>1</td>\n",
       "      <td>[ア, オ]</td>\n",
       "      <td>[おもね.る, くま]</td>\n",
       "      <td>[Africa, flatter, fawn upon, corner, nook, rec...</td>\n",
       "      <td>NaN</td>\n",
       "      <td>False</td>\n",
       "      <td>True</td>\n",
       "      <td>NaN</td>\n",
       "      <td>NaN</td>\n",
       "      <td>NaN</td>\n",
       "      <td>NaN</td>\n",
       "      <td>NaN</td>\n",
       "    </tr>\n",
       "    <tr>\n",
       "      <td>4</td>\n",
       "      <td>哀</td>\n",
       "      <td>[30, 8]</td>\n",
       "      <td>[9]</td>\n",
       "      <td>1715</td>\n",
       "      <td>1</td>\n",
       "      <td>[アイ]</td>\n",
       "      <td>[あわ.れ, あわ.れむ, かな.しい]</td>\n",
       "      <td>[pathetic, grief, sorrow, pathos, pity, sympat...</td>\n",
       "      <td>NaN</td>\n",
       "      <td>True</td>\n",
       "      <td>True</td>\n",
       "      <td>печальный</td>\n",
       "      <td>NaN</td>\n",
       "      <td>NaN</td>\n",
       "      <td>NaN</td>\n",
       "      <td>NaN</td>\n",
       "    </tr>\n",
       "  </tbody>\n",
       "</table>\n",
       "</div>"
      ],
      "text/plain": [
       "  kanji    radic strokes  freq_kd  jlpt       on_kd                kun_kd  \\\n",
       "0     亜   [7, 1]     [7]     1509     1         [ア]                 [つ.ぐ]   \n",
       "1     唖     [30]    [10]      NaN   NaN     [ア, アク]                  [おし]   \n",
       "2     娃     [38]     [9]      NaN   NaN  [ア, アイ, ワ]              [うつく.しい]   \n",
       "3     阿    [170]     [8]     1126     1      [ア, オ]           [おもね.る, くま]   \n",
       "4     哀  [30, 8]     [9]     1715     1        [アイ]  [あわ.れ, あわ.れむ, かな.しい]   \n",
       "\n",
       "                                               en_kd kyoiku   joyo jinmeiyo  \\\n",
       "0                [Asia, rank next, come after, -ous]    NaN   True     True   \n",
       "1                                       [mute, dumb]    NaN  False    False   \n",
       "2                                        [beautiful]    NaN  False     True   \n",
       "3  [Africa, flatter, fawn upon, corner, nook, rec...    NaN  False     True   \n",
       "4  [pathetic, grief, sorrow, pathos, pity, sympat...    NaN   True     True   \n",
       "\n",
       "       ru_tm en_ka kun_ka on_ka examples_ka  \n",
       "0       Азия   NaN    NaN   NaN         NaN  \n",
       "1        NaN   NaN    NaN   NaN         NaN  \n",
       "2        NaN   NaN    NaN   NaN         NaN  \n",
       "3        NaN   NaN    NaN   NaN         NaN  \n",
       "4  печальный   NaN    NaN   NaN         NaN  "
      ]
     },
     "execution_count": 108,
     "metadata": {},
     "output_type": "execute_result"
    }
   ],
   "source": [
    "kanji.head()"
   ]
  },
  {
   "cell_type": "code",
   "execution_count": 109,
   "metadata": {
    "inputHidden": false,
    "jupyter": {
     "outputs_hidden": false
    },
    "outputHidden": false
   },
   "outputs": [],
   "source": [
    "kanji.to_pickle('kanji_full.pkl')\n",
    "del kanji"
   ]
  },
  {
   "cell_type": "markdown",
   "metadata": {},
   "source": [
    "## Последние штрихи"
   ]
  },
  {
   "cell_type": "code",
   "execution_count": 110,
   "metadata": {},
   "outputs": [],
   "source": [
    "kanji_full = pd.read_pickle('kanji_full.pkl')"
   ]
  },
  {
   "cell_type": "markdown",
   "metadata": {},
   "source": [
    "### Темеров"
   ]
  },
  {
   "cell_type": "markdown",
   "metadata": {},
   "source": [
    "Приведём в порядок, для начала разрежем переводы-строки Темерова на списки"
   ]
  },
  {
   "cell_type": "code",
   "execution_count": 111,
   "metadata": {},
   "outputs": [
    {
     "data": {
      "text/html": [
       "<div>\n",
       "<style scoped>\n",
       "    .dataframe tbody tr th:only-of-type {\n",
       "        vertical-align: middle;\n",
       "    }\n",
       "\n",
       "    .dataframe tbody tr th {\n",
       "        vertical-align: top;\n",
       "    }\n",
       "\n",
       "    .dataframe thead th {\n",
       "        text-align: right;\n",
       "    }\n",
       "</style>\n",
       "<table border=\"1\" class=\"dataframe\">\n",
       "  <thead>\n",
       "    <tr style=\"text-align: right;\">\n",
       "      <th></th>\n",
       "      <th>kanji</th>\n",
       "      <th>radic</th>\n",
       "      <th>strokes</th>\n",
       "      <th>freq_kd</th>\n",
       "      <th>jlpt</th>\n",
       "      <th>on_kd</th>\n",
       "      <th>kun_kd</th>\n",
       "      <th>en_kd</th>\n",
       "      <th>kyoiku</th>\n",
       "      <th>joyo</th>\n",
       "      <th>jinmeiyo</th>\n",
       "      <th>ru_tm</th>\n",
       "      <th>en_ka</th>\n",
       "      <th>kun_ka</th>\n",
       "      <th>on_ka</th>\n",
       "      <th>examples_ka</th>\n",
       "    </tr>\n",
       "  </thead>\n",
       "  <tbody>\n",
       "    <tr>\n",
       "      <td>23</td>\n",
       "      <td>宛</td>\n",
       "      <td>[40]</td>\n",
       "      <td>[8]</td>\n",
       "      <td>NaN</td>\n",
       "      <td>NaN</td>\n",
       "      <td>[エン]</td>\n",
       "      <td>[あ.てる, -あて, -づつ, あたか.も]</td>\n",
       "      <td>[address, just like, fortunately]</td>\n",
       "      <td>NaN</td>\n",
       "      <td>True</td>\n",
       "      <td>True</td>\n",
       "      <td>адресовано ...</td>\n",
       "      <td>NaN</td>\n",
       "      <td>NaN</td>\n",
       "      <td>NaN</td>\n",
       "      <td>NaN</td>\n",
       "    </tr>\n",
       "    <tr>\n",
       "      <td>57</td>\n",
       "      <td>畏</td>\n",
       "      <td>[102]</td>\n",
       "      <td>[9]</td>\n",
       "      <td>2389</td>\n",
       "      <td>NaN</td>\n",
       "      <td>[イ]</td>\n",
       "      <td>[おそ.れる, かしこま.る, かしこ, かしこ.し]</td>\n",
       "      <td>[fear, majestic, graciously, be apprehensive]</td>\n",
       "      <td>NaN</td>\n",
       "      <td>True</td>\n",
       "      <td>True</td>\n",
       "      <td>искренне Ваш ...</td>\n",
       "      <td>NaN</td>\n",
       "      <td>NaN</td>\n",
       "      <td>NaN</td>\n",
       "      <td>NaN</td>\n",
       "    </tr>\n",
       "  </tbody>\n",
       "</table>\n",
       "</div>"
      ],
      "text/plain": [
       "   kanji  radic strokes  freq_kd  jlpt on_kd                       kun_kd  \\\n",
       "23     宛   [40]     [8]      NaN   NaN  [エン]      [あ.てる, -あて, -づつ, あたか.も]   \n",
       "57     畏  [102]     [9]     2389   NaN   [イ]  [おそ.れる, かしこま.る, かしこ, かしこ.し]   \n",
       "\n",
       "                                            en_kd kyoiku  joyo jinmeiyo  \\\n",
       "23              [address, just like, fortunately]    NaN  True     True   \n",
       "57  [fear, majestic, graciously, be apprehensive]    NaN  True     True   \n",
       "\n",
       "               ru_tm en_ka kun_ka on_ka examples_ka  \n",
       "23    адресовано ...   NaN    NaN   NaN         NaN  \n",
       "57  искренне Ваш ...   NaN    NaN   NaN         NaN  "
      ]
     },
     "execution_count": 111,
     "metadata": {},
     "output_type": "execute_result"
    }
   ],
   "source": [
    "# Точка используются в двух переводах, её трогать не будем\n",
    "kanji_full[ kanji_full.ru_tm.str.contains('[.]') == True ]"
   ]
  },
  {
   "cell_type": "code",
   "execution_count": 112,
   "metadata": {},
   "outputs": [],
   "source": [
    "# Запятые используются для разделения толкований, разрежем по запятым, а остальные переводы запакуем в списки\n",
    "kanji_full.ru_tm = kanji_full.ru_tm.str.split(',')"
   ]
  },
  {
   "cell_type": "markdown",
   "metadata": {},
   "source": [
    "### Разрежем переводы KanjiAlive"
   ]
  },
  {
   "cell_type": "code",
   "execution_count": 113,
   "metadata": {},
   "outputs": [
    {
     "data": {
      "text/html": [
       "<div>\n",
       "<style scoped>\n",
       "    .dataframe tbody tr th:only-of-type {\n",
       "        vertical-align: middle;\n",
       "    }\n",
       "\n",
       "    .dataframe tbody tr th {\n",
       "        vertical-align: top;\n",
       "    }\n",
       "\n",
       "    .dataframe thead th {\n",
       "        text-align: right;\n",
       "    }\n",
       "</style>\n",
       "<table border=\"1\" class=\"dataframe\">\n",
       "  <thead>\n",
       "    <tr style=\"text-align: right;\">\n",
       "      <th></th>\n",
       "      <th>kanji</th>\n",
       "      <th>radic</th>\n",
       "      <th>strokes</th>\n",
       "      <th>freq_kd</th>\n",
       "      <th>jlpt</th>\n",
       "      <th>on_kd</th>\n",
       "      <th>kun_kd</th>\n",
       "      <th>en_kd</th>\n",
       "      <th>kyoiku</th>\n",
       "      <th>joyo</th>\n",
       "      <th>jinmeiyo</th>\n",
       "      <th>ru_tm</th>\n",
       "      <th>en_ka</th>\n",
       "      <th>kun_ka</th>\n",
       "      <th>on_ka</th>\n",
       "      <th>examples_ka</th>\n",
       "    </tr>\n",
       "  </thead>\n",
       "  <tbody>\n",
       "    <tr>\n",
       "      <td>41</td>\n",
       "      <td>以</td>\n",
       "      <td>[9]</td>\n",
       "      <td>[5]</td>\n",
       "      <td>126</td>\n",
       "      <td>3</td>\n",
       "      <td>[イ]</td>\n",
       "      <td>[もっ.て]</td>\n",
       "      <td>[by means of, because, in view of, compared with]</td>\n",
       "      <td>4</td>\n",
       "      <td>True</td>\n",
       "      <td>True</td>\n",
       "      <td>[от]</td>\n",
       "      <td>to the ... of, by means of</td>\n",
       "      <td>[も, もって]</td>\n",
       "      <td>[イ]</td>\n",
       "      <td>[Example(kanji='以上', kana='いじょう', en='more tha...</td>\n",
       "    </tr>\n",
       "  </tbody>\n",
       "</table>\n",
       "</div>"
      ],
      "text/plain": [
       "   kanji radic strokes  freq_kd  jlpt on_kd  kun_kd  \\\n",
       "41     以   [9]     [5]      126     3   [イ]  [もっ.て]   \n",
       "\n",
       "                                                en_kd kyoiku  joyo jinmeiyo  \\\n",
       "41  [by means of, because, in view of, compared with]      4  True     True   \n",
       "\n",
       "   ru_tm                       en_ka    kun_ka on_ka  \\\n",
       "41  [от]  to the ... of, by means of  [も, もって]   [イ]   \n",
       "\n",
       "                                          examples_ka  \n",
       "41  [Example(kanji='以上', kana='いじょう', en='more tha...  "
      ]
     },
     "execution_count": 113,
     "metadata": {},
     "output_type": "execute_result"
    }
   ],
   "source": [
    "# Аналогично, точки используются лишь в многоточиях (одна карточка), запятые разграничивают толкование\n",
    "kanji_full[ kanji_full.en_ka.str.contains('[.]') == True ]"
   ]
  },
  {
   "cell_type": "code",
   "execution_count": 114,
   "metadata": {},
   "outputs": [],
   "source": [
    "kanji_full.en_ka = kanji_full.en_ka.str.split(',')"
   ]
  },
  {
   "cell_type": "markdown",
   "metadata": {},
   "source": [
    "### Заменим пустые списки `[]` в колонках на `np.nan`"
   ]
  },
  {
   "cell_type": "code",
   "execution_count": 115,
   "metadata": {},
   "outputs": [
    {
     "name": "stderr",
     "output_type": "stream",
     "text": [
      "/Users/sheg/Library/Python/3.7/lib/python/site-packages/ipykernel_launcher.py:2: SettingWithCopyWarning: \n",
      "A value is trying to be set on a copy of a slice from a DataFrame\n",
      "\n",
      "See the caveats in the documentation: http://pandas.pydata.org/pandas-docs/stable/user_guide/indexing.html#returning-a-view-versus-a-copy\n",
      "  \n"
     ]
    }
   ],
   "source": [
    "for col in kanji_full.columns:\n",
    "    kanji_full[col][ kanji_full[col].apply(lambda x: x == []) == True ] = np.nan"
   ]
  },
  {
   "cell_type": "markdown",
   "metadata": {},
   "source": [
    "### Заменим float NaN на np.nan"
   ]
  },
  {
   "cell_type": "code",
   "execution_count": 116,
   "metadata": {},
   "outputs": [],
   "source": [
    "kanji_full.fillna(np.nan, inplace=True)"
   ]
  },
  {
   "cell_type": "markdown",
   "metadata": {},
   "source": [
    "### Нормализуем символы"
   ]
  },
  {
   "cell_type": "code",
   "execution_count": 12,
   "metadata": {},
   "outputs": [],
   "source": [
    "kanji_full.kanji = kanji_full.kanji.apply(lambda s: unicodedata.normalize('NFKC', s))"
   ]
  },
  {
   "cell_type": "code",
   "execution_count": 13,
   "metadata": {},
   "outputs": [],
   "source": [
    "kanji_full.to_pickle('kanji_full.pkl')"
   ]
  },
  {
   "cell_type": "markdown",
   "metadata": {},
   "source": [
    "# Выберем нужное подмножество данных"
   ]
  },
  {
   "cell_type": "code",
   "execution_count": 14,
   "metadata": {},
   "outputs": [],
   "source": [
    "kanji_full = pd.read_pickle('kanji_full.pkl')"
   ]
  },
  {
   "cell_type": "code",
   "execution_count": 15,
   "metadata": {},
   "outputs": [],
   "source": [
    "get_rules = {\n",
    "    'kanji': 'kanji',\n",
    "    'radic': 'radic',\n",
    "    'strokes': 'strokes',\n",
    "    'freq': 'freq_kd',\n",
    "    'jlpt': 'jlpt',\n",
    "    'on': lambda x: x.on_ka if x.on_ka is not np.nan else x.on_kd,\n",
    "    'kun': lambda x: x.kun_ka if x.kun_ka is not np.nan else x.kun_kd,\n",
    "    'en_kd': 'en_kd',\n",
    "    'en_ka': 'en_ka',\n",
    "    'ru': 'ru_tm',\n",
    "    'examples': 'examples_ka',\n",
    "    'kyoiku': 'kyoiku',\n",
    "    'joyo': 'joyo',\n",
    "    'jinmeiyo': 'jinmeiyo'\n",
    "}"
   ]
  },
  {
   "cell_type": "code",
   "execution_count": 16,
   "metadata": {},
   "outputs": [],
   "source": [
    "kanji = pd.DataFrame()\n",
    "\n",
    "for col_name, rule in get_rules.items():\n",
    "\n",
    "    if type(rule) is str:\n",
    "        col = kanji_full[rule]\n",
    "    else:\n",
    "        col = kanji_full.apply(rule, axis=1)\n",
    "    \n",
    "    kanji[col_name] = col"
   ]
  },
  {
   "cell_type": "code",
   "execution_count": 17,
   "metadata": {},
   "outputs": [],
   "source": [
    "kanji = kanji.sort_values('freq')"
   ]
  },
  {
   "cell_type": "code",
   "execution_count": 18,
   "metadata": {},
   "outputs": [],
   "source": [
    "kanji.to_pickle('kanji.pkl')"
   ]
  },
  {
   "cell_type": "code",
   "execution_count": null,
   "metadata": {},
   "outputs": [],
   "source": []
  },
  {
   "cell_type": "code",
   "execution_count": null,
   "metadata": {},
   "outputs": [],
   "source": []
  },
  {
   "cell_type": "code",
   "execution_count": null,
   "metadata": {},
   "outputs": [],
   "source": []
  },
  {
   "cell_type": "code",
   "execution_count": null,
   "metadata": {},
   "outputs": [],
   "source": []
  }
 ],
 "metadata": {
  "kernel_info": {
   "name": "python3"
  },
  "kernelspec": {
   "display_name": "Python 3",
   "language": "python",
   "name": "python3"
  },
  "language_info": {
   "codemirror_mode": {
    "name": "ipython",
    "version": 3
   },
   "file_extension": ".py",
   "mimetype": "text/x-python",
   "name": "python",
   "nbconvert_exporter": "python",
   "pygments_lexer": "ipython3",
   "version": "3.7.4"
  },
  "nteract": {
   "version": "0.15.0"
  },
  "toc-autonumbering": true,
  "varInspector": {
   "cols": {
    "lenName": 16,
    "lenType": 16,
    "lenVar": 40
   },
   "kernels_config": {
    "python": {
     "delete_cmd_postfix": "",
     "delete_cmd_prefix": "del ",
     "library": "var_list.py",
     "varRefreshCmd": "print(var_dic_list())"
    },
    "r": {
     "delete_cmd_postfix": ") ",
     "delete_cmd_prefix": "rm(",
     "library": "var_list.r",
     "varRefreshCmd": "cat(var_dic_list()) "
    }
   },
   "types_to_exclude": [
    "module",
    "function",
    "builtin_function_or_method",
    "instance",
    "_Feature"
   ],
   "window_display": false
  }
 },
 "nbformat": 4,
 "nbformat_minor": 4
}
